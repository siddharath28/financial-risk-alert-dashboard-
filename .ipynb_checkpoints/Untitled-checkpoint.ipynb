{
 "cells": [
  {
   "cell_type": "code",
   "execution_count": 4,
   "id": "47c7860c-468d-42c1-a65e-72266f3b5e57",
   "metadata": {},
   "outputs": [],
   "source": [
    "with open(\"app.py\", \"w\", encoding=\"utf-8\") as f:\n",
    "    f.write(\"\"\"import streamlit as st\n",
    "import pandas as pd\n",
    "\n",
    "# Load your data\n",
    "df = pd.read_csv('data/all_financial_news.csv')\n",
    "\n",
    "# Get latest date\n",
    "latest_date = df['date'].max()\n",
    "latest_data = df[df['date'] == latest_date]\n",
    "\n",
    "# Check for risk alert\n",
    "if latest_data['risk_alert'].any():\n",
    "    st.error(\"🚨 Risk Alert Triggered!\")\n",
    "    st.write(latest_data[latest_data['risk_alert'] == 1])\n",
    "else:\n",
    "    st.success(\"✅ No Risk Alert Today.\")\n",
    "\"\"\")\n"
   ]
  },
  {
   "cell_type": "code",
   "execution_count": null,
   "id": "2bd7ff1e-e25e-46ea-8ea5-cb7372a37cc9",
   "metadata": {},
   "outputs": [],
   "source": []
  }
 ],
 "metadata": {
  "kernelspec": {
   "display_name": "Python [conda env:base] *",
   "language": "python",
   "name": "conda-base-py"
  },
  "language_info": {
   "codemirror_mode": {
    "name": "ipython",
    "version": 3
   },
   "file_extension": ".py",
   "mimetype": "text/x-python",
   "name": "python",
   "nbconvert_exporter": "python",
   "pygments_lexer": "ipython3",
   "version": "3.12.7"
  }
 },
 "nbformat": 4,
 "nbformat_minor": 5
}
