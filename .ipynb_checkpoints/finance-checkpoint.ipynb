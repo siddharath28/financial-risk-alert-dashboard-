{
 "cells": [
  {
   "cell_type": "code",
   "execution_count": 17,
   "id": "29b52c5b-87ce-40ff-bfd9-0231ebc5538b",
   "metadata": {},
   "outputs": [],
   "source": [
    "# Create or overwrite the .env file\n",
    "with open(\".env\", \"w\") as f:\n",
    "    f.write(\"NEWS_API_KEY=468c0aaedd694cdf905ed97c1dcdc0b4\")\n"
   ]
  },
  {
   "cell_type": "code",
   "execution_count": 19,
   "id": "cef727d4-0387-40a2-a499-6dcd69432730",
   "metadata": {},
   "outputs": [
    {
     "name": "stdout",
     "output_type": "stream",
     "text": [
      "API KEY: 468c0aaedd694cdf905ed97c1dcdc0b4\n"
     ]
    }
   ],
   "source": [
    "from dotenv import load_dotenv\n",
    "import os\n",
    "\n",
    "load_dotenv()  # Loads .env file from current directory\n",
    "\n",
    "print(\"API KEY:\", os.getenv(\"NEWS_API_KEY\"))\n"
   ]
  },
  {
   "cell_type": "code",
   "execution_count": 10,
   "id": "c1940e70-b423-4f78-80f9-37dd10f1def9",
   "metadata": {},
   "outputs": [],
   "source": [
    "import os\n",
    "\n",
    "# Create the 'data' folder if it doesn't already exist\n",
    "os.makedirs(\"data\", exist_ok=True)\n"
   ]
  },
  {
   "cell_type": "code",
   "execution_count": 21,
   "id": "3897d6e4-4084-40f4-987d-4d36fcdc3f75",
   "metadata": {},
   "outputs": [],
   "source": [
    "import requests\n",
    "import pandas as pd\n",
    "import os\n",
    "from datetime import datetime, timedelta\n",
    "from dotenv import load_dotenv\n",
    "from tqdm import tqdm\n",
    "\n",
    "# Load API key from .env\n",
    "load_dotenv()\n",
    "API_KEY = os.getenv('NEWS_API_KEY')\n",
    "\n",
    "# Function to fetch news\n",
    "def fetch_news(query=\"stock market\", from_date=\"2024-05-01\", to_date=\"2024-05-07\", page_size=100):\n",
    "    url = \"https://newsapi.org/v2/everything\"\n",
    "    all_articles = []\n",
    "\n",
    "    # Only one page allowed on free plan\n",
    "    params = {\n",
    "        'q': query,\n",
    "        'from': from_date,\n",
    "        'to': to_date,\n",
    "        'language': 'en',\n",
    "        'sortBy': 'relevancy',\n",
    "        'pageSize': page_size,\n",
    "        'page': 1,  # Only one page\n",
    "        'apiKey': API_KEY\n",
    "    }\n",
    "    response = requests.get(url, params=params)\n",
    "    if response.status_code != 200:\n",
    "        print('Failed to fetch:', response.json())\n",
    "        return pd.DataFrame()\n",
    "\n",
    "    data = response.json()\n",
    "    articles = data.get('articles', [])\n",
    "    all_articles.extend(articles)\n",
    "\n",
    "    return pd.DataFrame(all_articles)\n",
    "   "
   ]
  },
  {
   "cell_type": "code",
   "execution_count": null,
   "id": "4991ba77-4190-4723-8660-212db2909275",
   "metadata": {},
   "outputs": [],
   "source": []
  },
  {
   "cell_type": "code",
   "execution_count": 22,
   "id": "acca74b2-db07-4cd7-a6a8-e959f42382e8",
   "metadata": {},
   "outputs": [],
   "source": [
    "def fetch_news(query_list, from_date='2024-05-01', to_date='2024-05-07', page_size=100):\n",
    "    url = 'https://newsapi.org/v2/everything'\n",
    "    all_articles = []\n",
    "    \n",
    "    for query in query_list:\n",
    "        print(f\"Fetching news for query: {query}\")\n",
    "        \n",
    "        params = {\n",
    "            'q': query,\n",
    "            'from': from_date,\n",
    "            'to': to_date,\n",
    "            'language': 'en',\n",
    "            'sortBy': 'relevancy',\n",
    "            'pageSize': page_size,\n",
    "            'page': 1,  # Only one page for each query\n",
    "            'apiKey': API_KEY\n",
    "        }\n",
    "        \n",
    "        response = requests.get(url, params=params)\n",
    "        if response.status_code != 200:\n",
    "            print(f'Failed to fetch for query: {query}, response: {response.json()}')\n",
    "            continue  # Skip this query if it fails\n",
    "\n",
    "        data = response.json()\n",
    "        articles = data.get('articles', [])\n",
    "        all_articles.extend(articles)\n",
    "    \n",
    "    return pd.DataFrame(all_articles)\n"
   ]
  },
  {
   "cell_type": "code",
   "execution_count": 23,
   "id": "ba7d4d48-bf8d-4679-be0a-e118e4d9aff3",
   "metadata": {},
   "outputs": [
    {
     "name": "stdout",
     "output_type": "stream",
     "text": [
      "Fetching news for query: stock market\n",
      "Fetching news for query: inflation\n",
      "Fetching news for query: NASDAQ\n",
      "Fetching news for query: financial news\n",
      "Fetching news for query: economy\n"
     ]
    }
   ],
   "source": [
    "query_list = [\"stock market\", \"inflation\", \"NASDAQ\", \"financial news\", \"economy\"]\n",
    "df_news = fetch_news(query_list, from_date=str(week_ago), to_date=str(today))\n",
    "\n",
    "if not df_news.empty:\n",
    "    df_news = df_news[[\"publishedAt\", \"title\", \"description\", \"url\", \"source\"]]\n",
    "    df_news.to_csv(\"data/financial_news.csv\", index=False)\n",
    "    df_news.head()\n",
    "else:\n",
    "    print(\"No articles fetched.\")\n"
   ]
  },
  {
   "cell_type": "code",
   "execution_count": 24,
   "id": "ac61ddf0-71e2-40c2-bfa7-68be14857e6f",
   "metadata": {},
   "outputs": [
    {
     "data": {
      "text/html": [
       "<div>\n",
       "<style scoped>\n",
       "    .dataframe tbody tr th:only-of-type {\n",
       "        vertical-align: middle;\n",
       "    }\n",
       "\n",
       "    .dataframe tbody tr th {\n",
       "        vertical-align: top;\n",
       "    }\n",
       "\n",
       "    .dataframe thead th {\n",
       "        text-align: right;\n",
       "    }\n",
       "</style>\n",
       "<table border=\"1\" class=\"dataframe\">\n",
       "  <thead>\n",
       "    <tr style=\"text-align: right;\">\n",
       "      <th></th>\n",
       "      <th>publishedAt</th>\n",
       "      <th>title</th>\n",
       "      <th>description</th>\n",
       "      <th>url</th>\n",
       "      <th>source</th>\n",
       "    </tr>\n",
       "  </thead>\n",
       "  <tbody>\n",
       "    <tr>\n",
       "      <th>0</th>\n",
       "      <td>2025-05-01T09:29:02Z</td>\n",
       "      <td>Trump says the stock market isn't his. For now...</td>\n",
       "      <td>\"That will work now,\" Sen. Thom Tillis said of...</td>\n",
       "      <td>https://www.businessinsider.com/trump-stock-ma...</td>\n",
       "      <td>{'id': 'business-insider', 'name': 'Business I...</td>\n",
       "    </tr>\n",
       "    <tr>\n",
       "      <th>1</th>\n",
       "      <td>2025-05-05T17:51:04Z</td>\n",
       "      <td>10 vintage photos show how the Black Monday st...</td>\n",
       "      <td>Trump's tariff announcements have recently uns...</td>\n",
       "      <td>https://www.businessinsider.com/vintage-photos...</td>\n",
       "      <td>{'id': 'business-insider', 'name': 'Business I...</td>\n",
       "    </tr>\n",
       "    <tr>\n",
       "      <th>2</th>\n",
       "      <td>2025-05-02T16:07:00Z</td>\n",
       "      <td>Legendary fund manager makes bold stock market...</td>\n",
       "      <td>None</td>\n",
       "      <td>https://consent.yahoo.com/v2/collectConsent?se...</td>\n",
       "      <td>{'id': None, 'name': 'Yahoo Entertainment'}</td>\n",
       "    </tr>\n",
       "    <tr>\n",
       "      <th>3</th>\n",
       "      <td>2025-05-05T13:45:10Z</td>\n",
       "      <td>Why Marvell Technology (MRVL) is a Top Growth ...</td>\n",
       "      <td>Wondering how to pick strong, market-beating s...</td>\n",
       "      <td>https://finance.yahoo.com/news/why-marvell-tec...</td>\n",
       "      <td>{'id': None, 'name': 'Yahoo Entertainment'}</td>\n",
       "    </tr>\n",
       "    <tr>\n",
       "      <th>4</th>\n",
       "      <td>2025-05-02T12:46:03Z</td>\n",
       "      <td>The U.S. job market cooled as Trump's trade wa...</td>\n",
       "      <td>U.S. employers added 177,000 jobs in April — a...</td>\n",
       "      <td>https://www.npr.org/2025/05/02/nx-s1-5383289/j...</td>\n",
       "      <td>{'id': None, 'name': 'NPR'}</td>\n",
       "    </tr>\n",
       "  </tbody>\n",
       "</table>\n",
       "</div>"
      ],
      "text/plain": [
       "            publishedAt                                              title  \\\n",
       "0  2025-05-01T09:29:02Z  Trump says the stock market isn't his. For now...   \n",
       "1  2025-05-05T17:51:04Z  10 vintage photos show how the Black Monday st...   \n",
       "2  2025-05-02T16:07:00Z  Legendary fund manager makes bold stock market...   \n",
       "3  2025-05-05T13:45:10Z  Why Marvell Technology (MRVL) is a Top Growth ...   \n",
       "4  2025-05-02T12:46:03Z  The U.S. job market cooled as Trump's trade wa...   \n",
       "\n",
       "                                         description  \\\n",
       "0  \"That will work now,\" Sen. Thom Tillis said of...   \n",
       "1  Trump's tariff announcements have recently uns...   \n",
       "2                                               None   \n",
       "3  Wondering how to pick strong, market-beating s...   \n",
       "4  U.S. employers added 177,000 jobs in April — a...   \n",
       "\n",
       "                                                 url  \\\n",
       "0  https://www.businessinsider.com/trump-stock-ma...   \n",
       "1  https://www.businessinsider.com/vintage-photos...   \n",
       "2  https://consent.yahoo.com/v2/collectConsent?se...   \n",
       "3  https://finance.yahoo.com/news/why-marvell-tec...   \n",
       "4  https://www.npr.org/2025/05/02/nx-s1-5383289/j...   \n",
       "\n",
       "                                              source  \n",
       "0  {'id': 'business-insider', 'name': 'Business I...  \n",
       "1  {'id': 'business-insider', 'name': 'Business I...  \n",
       "2        {'id': None, 'name': 'Yahoo Entertainment'}  \n",
       "3        {'id': None, 'name': 'Yahoo Entertainment'}  \n",
       "4                        {'id': None, 'name': 'NPR'}  "
      ]
     },
     "execution_count": 24,
     "metadata": {},
     "output_type": "execute_result"
    }
   ],
   "source": [
    "import os\n",
    "\n",
    "# Create the 'data' directory if it doesn't exist\n",
    "os.makedirs(\"data\", exist_ok=True)\n",
    "\n",
    "# Save the data into a CSV file\n",
    "df_news.to_csv(\"data/financial_news.csv\", index=False)\n",
    "\n",
    "# Check the first few rows of the dataframe\n",
    "df_news.head()\n"
   ]
  },
  {
   "cell_type": "code",
   "execution_count": 25,
   "id": "8e254f80-fda3-4631-9823-aa42f7048b6b",
   "metadata": {},
   "outputs": [
    {
     "name": "stdout",
     "output_type": "stream",
     "text": [
      "Requirement already satisfied: psaw in c:\\users\\sandi\\anaconda3\\lib\\site-packages (0.1.0)\n",
      "Requirement already satisfied: requests in c:\\users\\sandi\\anaconda3\\lib\\site-packages (from psaw) (2.32.3)\n",
      "Requirement already satisfied: Click in c:\\users\\sandi\\anaconda3\\lib\\site-packages (from psaw) (8.1.7)\n",
      "Requirement already satisfied: colorama in c:\\users\\sandi\\anaconda3\\lib\\site-packages (from Click->psaw) (0.4.6)\n",
      "Requirement already satisfied: charset-normalizer<4,>=2 in c:\\users\\sandi\\anaconda3\\lib\\site-packages (from requests->psaw) (3.3.2)\n",
      "Requirement already satisfied: idna<4,>=2.5 in c:\\users\\sandi\\anaconda3\\lib\\site-packages (from requests->psaw) (3.7)\n",
      "Requirement already satisfied: urllib3<3,>=1.21.1 in c:\\users\\sandi\\anaconda3\\lib\\site-packages (from requests->psaw) (2.2.3)\n",
      "Requirement already satisfied: certifi>=2017.4.17 in c:\\users\\sandi\\anaconda3\\lib\\site-packages (from requests->psaw) (2025.4.26)\n"
     ]
    }
   ],
   "source": [
    "!pip install psaw\n"
   ]
  },
  {
   "cell_type": "code",
   "execution_count": 26,
   "id": "322719ea-9c6b-4b23-9e57-a557b1425178",
   "metadata": {},
   "outputs": [
    {
     "name": "stdout",
     "output_type": "stream",
     "text": [
      ".env file created successfully!\n"
     ]
    }
   ],
   "source": [
    "env_content = \"\"\"REDDIT_CLIENT_ID=mNM6bsmfJfWlE24n1skAOg\n",
    "REDDIT_CLIENT_SECRET=VldZScwuDTfLYsGpEw1MpRD9-t-lBQ\n",
    "REDDIT_USER_AGENT=financial_news_script\n",
    "\"\"\"\n",
    "\n",
    "with open(\".env\", \"w\") as f:\n",
    "    f.write(env_content)\n",
    "\n",
    "print(\".env file created successfully!\")\n"
   ]
  },
  {
   "cell_type": "code",
   "execution_count": 27,
   "id": "0d55a761-88ed-43b7-a3b6-5d91584c25a4",
   "metadata": {},
   "outputs": [
    {
     "name": "stdout",
     "output_type": "stream",
     "text": [
      "Client ID: mNM6bsmfJfWlE24n1skAOg\n"
     ]
    }
   ],
   "source": [
    "from dotenv import load_dotenv\n",
    "import os\n",
    "\n",
    "load_dotenv()\n",
    "\n",
    "print(\"Client ID:\", os.getenv(\"REDDIT_CLIENT_ID\"))\n"
   ]
  },
  {
   "cell_type": "code",
   "execution_count": 29,
   "id": "af8511ee-bb3f-4526-8d7d-52cfe16c2d8d",
   "metadata": {},
   "outputs": [
    {
     "name": "stdout",
     "output_type": "stream",
     "text": [
      "Collecting praw\n",
      "  Downloading praw-7.8.1-py3-none-any.whl.metadata (9.4 kB)\n",
      "Collecting prawcore<3,>=2.4 (from praw)\n",
      "  Downloading prawcore-2.4.0-py3-none-any.whl.metadata (5.0 kB)\n",
      "Collecting update_checker>=0.18 (from praw)\n",
      "  Downloading update_checker-0.18.0-py3-none-any.whl.metadata (2.3 kB)\n",
      "Requirement already satisfied: websocket-client>=0.54.0 in c:\\users\\sandi\\anaconda3\\lib\\site-packages (from praw) (1.8.0)\n",
      "Requirement already satisfied: requests<3.0,>=2.6.0 in c:\\users\\sandi\\anaconda3\\lib\\site-packages (from prawcore<3,>=2.4->praw) (2.32.3)\n",
      "Requirement already satisfied: charset-normalizer<4,>=2 in c:\\users\\sandi\\anaconda3\\lib\\site-packages (from requests<3.0,>=2.6.0->prawcore<3,>=2.4->praw) (3.3.2)\n",
      "Requirement already satisfied: idna<4,>=2.5 in c:\\users\\sandi\\anaconda3\\lib\\site-packages (from requests<3.0,>=2.6.0->prawcore<3,>=2.4->praw) (3.7)\n",
      "Requirement already satisfied: urllib3<3,>=1.21.1 in c:\\users\\sandi\\anaconda3\\lib\\site-packages (from requests<3.0,>=2.6.0->prawcore<3,>=2.4->praw) (2.2.3)\n",
      "Requirement already satisfied: certifi>=2017.4.17 in c:\\users\\sandi\\anaconda3\\lib\\site-packages (from requests<3.0,>=2.6.0->prawcore<3,>=2.4->praw) (2025.4.26)\n",
      "Downloading praw-7.8.1-py3-none-any.whl (189 kB)\n",
      "Downloading prawcore-2.4.0-py3-none-any.whl (17 kB)\n",
      "Downloading update_checker-0.18.0-py3-none-any.whl (7.0 kB)\n",
      "Installing collected packages: update_checker, prawcore, praw\n",
      "\n",
      "   -------------------------- ------------- 2/3 [praw]\n",
      "   -------------------------- ------------- 2/3 [praw]\n",
      "   -------------------------- ------------- 2/3 [praw]\n",
      "   -------------------------- ------------- 2/3 [praw]\n",
      "   -------------------------- ------------- 2/3 [praw]\n",
      "   ---------------------------------------- 3/3 [praw]\n",
      "\n",
      "Successfully installed praw-7.8.1 prawcore-2.4.0 update_checker-0.18.0\n"
     ]
    }
   ],
   "source": [
    "!pip install praw\n"
   ]
  },
  {
   "cell_type": "code",
   "execution_count": 30,
   "id": "7546c627-7efa-4bc2-8b62-991e3da97ae7",
   "metadata": {},
   "outputs": [],
   "source": [
    "import praw\n",
    "import os\n",
    "from dotenv import load_dotenv\n"
   ]
  },
  {
   "cell_type": "code",
   "execution_count": 31,
   "id": "a33bb76e-e83c-4923-98b7-44bb1a14eb9d",
   "metadata": {},
   "outputs": [
    {
     "name": "stderr",
     "output_type": "stream",
     "text": [
      "C:\\Users\\sandi\\AppData\\Local\\Temp\\ipykernel_25740\\1373071973.py:25: DeprecationWarning: datetime.datetime.utcfromtimestamp() is deprecated and scheduled for removal in a future version. Use timezone-aware objects to represent datetimes in UTC: datetime.datetime.fromtimestamp(timestamp, datetime.UTC).\n",
      "  'publishedAt': datetime.utcfromtimestamp(post.created_utc),\n"
     ]
    },
    {
     "data": {
      "text/html": [
       "<div>\n",
       "<style scoped>\n",
       "    .dataframe tbody tr th:only-of-type {\n",
       "        vertical-align: middle;\n",
       "    }\n",
       "\n",
       "    .dataframe tbody tr th {\n",
       "        vertical-align: top;\n",
       "    }\n",
       "\n",
       "    .dataframe thead th {\n",
       "        text-align: right;\n",
       "    }\n",
       "</style>\n",
       "<table border=\"1\" class=\"dataframe\">\n",
       "  <thead>\n",
       "    <tr style=\"text-align: right;\">\n",
       "      <th></th>\n",
       "      <th>subreddit</th>\n",
       "      <th>title</th>\n",
       "      <th>description</th>\n",
       "      <th>url</th>\n",
       "      <th>publishedAt</th>\n",
       "      <th>source</th>\n",
       "    </tr>\n",
       "  </thead>\n",
       "  <tbody>\n",
       "    <tr>\n",
       "      <th>0</th>\n",
       "      <td>StockMarket</td>\n",
       "      <td>McDonald’s just had its worst quarter since Co...</td>\n",
       "      <td></td>\n",
       "      <td>https://edition.cnn.com/2025/05/01/investing/m...</td>\n",
       "      <td>2025-05-01 19:17:42</td>\n",
       "      <td>Reddit</td>\n",
       "    </tr>\n",
       "    <tr>\n",
       "      <th>1</th>\n",
       "      <td>StockMarket</td>\n",
       "      <td>Trump authorizes 100% tariff on foreign films,...</td>\n",
       "      <td>Source: [https://truthsocial.com/@realDonaldTr...</td>\n",
       "      <td>https://i.redd.it/k80lxj9ppuye1.png</td>\n",
       "      <td>2025-05-04 23:40:39</td>\n",
       "      <td>Reddit</td>\n",
       "    </tr>\n",
       "    <tr>\n",
       "      <th>2</th>\n",
       "      <td>StockMarket</td>\n",
       "      <td>i am the wolf of wallstreet 😎</td>\n",
       "      <td></td>\n",
       "      <td>https://i.redd.it/bj9e85itfsye1.jpeg</td>\n",
       "      <td>2025-05-04 16:00:37</td>\n",
       "      <td>Reddit</td>\n",
       "    </tr>\n",
       "    <tr>\n",
       "      <th>3</th>\n",
       "      <td>StockMarket</td>\n",
       "      <td>Tarrifs are GOoD</td>\n",
       "      <td></td>\n",
       "      <td>https://i.redd.it/o5239z8jozxe1.jpeg</td>\n",
       "      <td>2025-04-30 15:17:48</td>\n",
       "      <td>Reddit</td>\n",
       "    </tr>\n",
       "    <tr>\n",
       "      <th>4</th>\n",
       "      <td>StockMarket</td>\n",
       "      <td>The clock is ticking down to zero, and Trump n...</td>\n",
       "      <td></td>\n",
       "      <td>https://amp.cnn.com/cnn/2025/05/05/business/tr...</td>\n",
       "      <td>2025-05-05 14:42:48</td>\n",
       "      <td>Reddit</td>\n",
       "    </tr>\n",
       "  </tbody>\n",
       "</table>\n",
       "</div>"
      ],
      "text/plain": [
       "     subreddit                                              title  \\\n",
       "0  StockMarket  McDonald’s just had its worst quarter since Co...   \n",
       "1  StockMarket  Trump authorizes 100% tariff on foreign films,...   \n",
       "2  StockMarket                      i am the wolf of wallstreet 😎   \n",
       "3  StockMarket                                   Tarrifs are GOoD   \n",
       "4  StockMarket  The clock is ticking down to zero, and Trump n...   \n",
       "\n",
       "                                         description  \\\n",
       "0                                                      \n",
       "1  Source: [https://truthsocial.com/@realDonaldTr...   \n",
       "2                                                      \n",
       "3                                                      \n",
       "4                                                      \n",
       "\n",
       "                                                 url         publishedAt  \\\n",
       "0  https://edition.cnn.com/2025/05/01/investing/m... 2025-05-01 19:17:42   \n",
       "1                https://i.redd.it/k80lxj9ppuye1.png 2025-05-04 23:40:39   \n",
       "2               https://i.redd.it/bj9e85itfsye1.jpeg 2025-05-04 16:00:37   \n",
       "3               https://i.redd.it/o5239z8jozxe1.jpeg 2025-04-30 15:17:48   \n",
       "4  https://amp.cnn.com/cnn/2025/05/05/business/tr... 2025-05-05 14:42:48   \n",
       "\n",
       "   source  \n",
       "0  Reddit  \n",
       "1  Reddit  \n",
       "2  Reddit  \n",
       "3  Reddit  \n",
       "4  Reddit  "
      ]
     },
     "execution_count": 31,
     "metadata": {},
     "output_type": "execute_result"
    }
   ],
   "source": [
    "import praw\n",
    "import os\n",
    "from dotenv import load_dotenv\n",
    "import pandas as pd\n",
    "from datetime import datetime\n",
    "\n",
    "load_dotenv()\n",
    "\n",
    "reddit = praw.Reddit(\n",
    "    client_id=os.getenv(\"REDDIT_CLIENT_ID\"),\n",
    "    client_secret=os.getenv(\"REDDIT_CLIENT_SECRET\"),\n",
    "    user_agent=os.getenv(\"REDDIT_USER_AGENT\")\n",
    ")\n",
    "\n",
    "subreddits = [\"StockMarket\", \"investing\", \"wallstreetbets\"]\n",
    "posts = []\n",
    "\n",
    "for sub in subreddits:\n",
    "    for post in reddit.subreddit(sub).top(time_filter='week', limit=100):\n",
    "        posts.append({\n",
    "            'subreddit': sub,\n",
    "            'title': post.title,\n",
    "            'description': post.selftext,\n",
    "            'url': post.url,\n",
    "            'publishedAt': datetime.utcfromtimestamp(post.created_utc),\n",
    "            'source': 'Reddit'\n",
    "        })\n",
    "\n",
    "df_reddit = pd.DataFrame(posts)\n",
    "df_reddit.to_csv(\"data/reddit_financial_news.csv\", index=False)\n",
    "df_reddit.head()\n"
   ]
  },
  {
   "cell_type": "code",
   "execution_count": 34,
   "id": "eed0ee9a-a410-4570-908b-9d43018c3c1e",
   "metadata": {},
   "outputs": [
    {
     "data": {
      "text/html": [
       "<div>\n",
       "<style scoped>\n",
       "    .dataframe tbody tr th:only-of-type {\n",
       "        vertical-align: middle;\n",
       "    }\n",
       "\n",
       "    .dataframe tbody tr th {\n",
       "        vertical-align: top;\n",
       "    }\n",
       "\n",
       "    .dataframe thead th {\n",
       "        text-align: right;\n",
       "    }\n",
       "</style>\n",
       "<table border=\"1\" class=\"dataframe\">\n",
       "  <thead>\n",
       "    <tr style=\"text-align: right;\">\n",
       "      <th></th>\n",
       "    </tr>\n",
       "  </thead>\n",
       "  <tbody>\n",
       "  </tbody>\n",
       "</table>\n",
       "</div>"
      ],
      "text/plain": [
       "Empty DataFrame\n",
       "Columns: []\n",
       "Index: []"
      ]
     },
     "execution_count": 34,
     "metadata": {},
     "output_type": "execute_result"
    }
   ],
   "source": [
    "import requests\n",
    "from bs4 import BeautifulSoup\n",
    "import pandas as pd\n",
    "from datetime import datetime\n",
    "\n",
    "def scrape_yahoo_finance_news():\n",
    "    url = \"https://finance.yahoo.com\"\n",
    "    response = requests.get(url)\n",
    "    soup = BeautifulSoup(response.content, \"html.parser\")\n",
    "\n",
    "    headlines = []\n",
    "    for item in soup.select(\"li.js-stream-content\"):\n",
    "        title_tag = item.find(\"h3\")\n",
    "        link_tag = item.find(\"a\")\n",
    "        if title_tag and link_tag:\n",
    "            headlines.append({\n",
    "                \"title\": title_tag.text.strip(),\n",
    "                \"url\": \"https://finance.yahoo.com\" + link_tag[\"href\"],\n",
    "                \"publishedAt\": datetime.now(),\n",
    "                \"description\": \"\",\n",
    "                \"source\": \"Yahoo Finance\"\n",
    "            })\n",
    "\n",
    "    return pd.DataFrame(headlines)\n",
    "\n",
    "# Run it\n",
    "df_yahoo = scrape_yahoo_finance_news()\n",
    "df_yahoo.to_csv(\"data/yahoo_financial_news.csv\", index=False)\n",
    "df_yahoo.head()\n"
   ]
  },
  {
   "cell_type": "code",
   "execution_count": 36,
   "id": "2bbc2baa-a433-40a3-9f88-89eef612f5c2",
   "metadata": {},
   "outputs": [
    {
     "name": "stdout",
     "output_type": "stream",
     "text": [
      "Collecting feedparser\n",
      "  Downloading feedparser-6.0.11-py3-none-any.whl.metadata (2.4 kB)\n",
      "Collecting sgmllib3k (from feedparser)\n",
      "  Downloading sgmllib3k-1.0.0.tar.gz (5.8 kB)\n",
      "  Preparing metadata (setup.py): started\n",
      "  Preparing metadata (setup.py): finished with status 'done'\n",
      "Downloading feedparser-6.0.11-py3-none-any.whl (81 kB)\n",
      "Building wheels for collected packages: sgmllib3k\n",
      "  Building wheel for sgmllib3k (setup.py): started\n",
      "  Building wheel for sgmllib3k (setup.py): finished with status 'done'\n",
      "  Created wheel for sgmllib3k: filename=sgmllib3k-1.0.0-py3-none-any.whl size=6104 sha256=5b53275e60e3ff655010032e6780eb8d240199744d6429ff0ff1b91298ff3624\n",
      "  Stored in directory: c:\\users\\sandi\\appdata\\local\\pip\\cache\\wheels\\03\\f5\\1a\\23761066dac1d0e8e683e5fdb27e12de53209d05a4a37e6246\n",
      "Successfully built sgmllib3k\n",
      "Installing collected packages: sgmllib3k, feedparser\n",
      "\n",
      "   -------------------- ------------------- 1/2 [feedparser]\n",
      "   -------------------- ------------------- 1/2 [feedparser]\n",
      "   ---------------------------------------- 2/2 [feedparser]\n",
      "\n",
      "Successfully installed feedparser-6.0.11 sgmllib3k-1.0.0\n"
     ]
    },
    {
     "name": "stderr",
     "output_type": "stream",
     "text": [
      "  DEPRECATION: Building 'sgmllib3k' using the legacy setup.py bdist_wheel mechanism, which will be removed in a future version. pip 25.3 will enforce this behaviour change. A possible replacement is to use the standardized build interface by setting the `--use-pep517` option, (possibly combined with `--no-build-isolation`), or adding a `pyproject.toml` file to the source tree of 'sgmllib3k'. Discussion can be found at https://github.com/pypa/pip/issues/6334\n"
     ]
    }
   ],
   "source": [
    "!pip install feedparser\n"
   ]
  },
  {
   "cell_type": "code",
   "execution_count": 38,
   "id": "5f184502-a6fe-46ea-9492-c5374745975c",
   "metadata": {},
   "outputs": [
    {
     "data": {
      "text/html": [
       "<div>\n",
       "<style scoped>\n",
       "    .dataframe tbody tr th:only-of-type {\n",
       "        vertical-align: middle;\n",
       "    }\n",
       "\n",
       "    .dataframe tbody tr th {\n",
       "        vertical-align: top;\n",
       "    }\n",
       "\n",
       "    .dataframe thead th {\n",
       "        text-align: right;\n",
       "    }\n",
       "</style>\n",
       "<table border=\"1\" class=\"dataframe\">\n",
       "  <thead>\n",
       "    <tr style=\"text-align: right;\">\n",
       "      <th></th>\n",
       "      <th>title</th>\n",
       "      <th>url</th>\n",
       "      <th>publishedAt</th>\n",
       "      <th>description</th>\n",
       "      <th>source</th>\n",
       "    </tr>\n",
       "  </thead>\n",
       "  <tbody>\n",
       "    <tr>\n",
       "      <th>0</th>\n",
       "      <td>Best high-yield savings interest rates today, ...</td>\n",
       "      <td>https://finance.yahoo.com/personal-finance/ban...</td>\n",
       "      <td>2025-05-07 10:00:44</td>\n",
       "      <td></td>\n",
       "      <td>Yahoo Finance</td>\n",
       "    </tr>\n",
       "    <tr>\n",
       "      <th>1</th>\n",
       "      <td>US stock futures rise on China trade de-escala...</td>\n",
       "      <td>https://finance.yahoo.com/news/us-stock-future...</td>\n",
       "      <td>2025-05-07 10:19:13</td>\n",
       "      <td></td>\n",
       "      <td>Yahoo Finance</td>\n",
       "    </tr>\n",
       "    <tr>\n",
       "      <th>2</th>\n",
       "      <td>Morning Bid: Trade talks at last</td>\n",
       "      <td>https://finance.yahoo.com/news/morning-bid-tra...</td>\n",
       "      <td>2025-05-07 10:16:51</td>\n",
       "      <td></td>\n",
       "      <td>Yahoo Finance</td>\n",
       "    </tr>\n",
       "    <tr>\n",
       "      <th>3</th>\n",
       "      <td>Stock market today: Dow, S&amp;P 500, Nasdaq futur...</td>\n",
       "      <td>https://finance.yahoo.com/news/live/stock-mark...</td>\n",
       "      <td>2025-05-06 23:56:39</td>\n",
       "      <td></td>\n",
       "      <td>Yahoo Finance</td>\n",
       "    </tr>\n",
       "    <tr>\n",
       "      <th>4</th>\n",
       "      <td>Low-cost carriers hit hardest by US travel dem...</td>\n",
       "      <td>https://finance.yahoo.com/news/low-cost-carrie...</td>\n",
       "      <td>2025-05-07 10:07:59</td>\n",
       "      <td></td>\n",
       "      <td>Yahoo Finance</td>\n",
       "    </tr>\n",
       "  </tbody>\n",
       "</table>\n",
       "</div>"
      ],
      "text/plain": [
       "                                               title  \\\n",
       "0  Best high-yield savings interest rates today, ...   \n",
       "1  US stock futures rise on China trade de-escala...   \n",
       "2                   Morning Bid: Trade talks at last   \n",
       "3  Stock market today: Dow, S&P 500, Nasdaq futur...   \n",
       "4  Low-cost carriers hit hardest by US travel dem...   \n",
       "\n",
       "                                                 url         publishedAt  \\\n",
       "0  https://finance.yahoo.com/personal-finance/ban... 2025-05-07 10:00:44   \n",
       "1  https://finance.yahoo.com/news/us-stock-future... 2025-05-07 10:19:13   \n",
       "2  https://finance.yahoo.com/news/morning-bid-tra... 2025-05-07 10:16:51   \n",
       "3  https://finance.yahoo.com/news/live/stock-mark... 2025-05-06 23:56:39   \n",
       "4  https://finance.yahoo.com/news/low-cost-carrie... 2025-05-07 10:07:59   \n",
       "\n",
       "  description         source  \n",
       "0              Yahoo Finance  \n",
       "1              Yahoo Finance  \n",
       "2              Yahoo Finance  \n",
       "3              Yahoo Finance  \n",
       "4              Yahoo Finance  "
      ]
     },
     "execution_count": 38,
     "metadata": {},
     "output_type": "execute_result"
    }
   ],
   "source": [
    "import feedparser\n",
    "import pandas as pd\n",
    "from datetime import datetime\n",
    "\n",
    "def fetch_yahoo_finance_rss():\n",
    "    rss_url = \"https://finance.yahoo.com/news/rssindex\"\n",
    "    feed = feedparser.parse(rss_url)\n",
    "\n",
    "    news_items = []\n",
    "    for entry in feed.entries:\n",
    "        news_items.append({\n",
    "            \"title\": entry.title,\n",
    "            \"url\": entry.link,\n",
    "            \"publishedAt\": datetime(*entry.published_parsed[:6]),\n",
    "            \"description\": entry.get(\"summary\", \"\"),\n",
    "            \"source\": \"Yahoo Finance\"\n",
    "        })\n",
    "\n",
    "    return pd.DataFrame(news_items)\n",
    "\n",
    "# Run and save\n",
    "df_yahoo_rss = fetch_yahoo_finance_rss()\n",
    "df_yahoo_rss.to_csv(\"data/yahoo_financial_news.csv\", index=False)\n",
    "df_yahoo_rss.head()\n"
   ]
  },
  {
   "cell_type": "code",
   "execution_count": 42,
   "id": "76fc6e2e-57cd-44b6-83b5-f104c3935597",
   "metadata": {},
   "outputs": [
    {
     "data": {
      "text/html": [
       "<div>\n",
       "<style scoped>\n",
       "    .dataframe tbody tr th:only-of-type {\n",
       "        vertical-align: middle;\n",
       "    }\n",
       "\n",
       "    .dataframe tbody tr th {\n",
       "        vertical-align: top;\n",
       "    }\n",
       "\n",
       "    .dataframe thead th {\n",
       "        text-align: right;\n",
       "    }\n",
       "</style>\n",
       "<table border=\"1\" class=\"dataframe\">\n",
       "  <thead>\n",
       "    <tr style=\"text-align: right;\">\n",
       "      <th></th>\n",
       "      <th>title</th>\n",
       "      <th>url</th>\n",
       "      <th>publishedAt</th>\n",
       "      <th>description</th>\n",
       "      <th>source</th>\n",
       "    </tr>\n",
       "  </thead>\n",
       "  <tbody>\n",
       "    <tr>\n",
       "      <th>0</th>\n",
       "      <td>McDonald’s just had its worst quarter since Co...</td>\n",
       "      <td>https://edition.cnn.com/2025/05/01/investing/m...</td>\n",
       "      <td>2025-05-01 19:17:42</td>\n",
       "      <td>NaN</td>\n",
       "      <td>Reddit</td>\n",
       "    </tr>\n",
       "    <tr>\n",
       "      <th>1</th>\n",
       "      <td>Trump authorizes 100% tariff on foreign films,...</td>\n",
       "      <td>https://i.redd.it/k80lxj9ppuye1.png</td>\n",
       "      <td>2025-05-04 23:40:39</td>\n",
       "      <td>Source: [https://truthsocial.com/@realDonaldTr...</td>\n",
       "      <td>Reddit</td>\n",
       "    </tr>\n",
       "    <tr>\n",
       "      <th>2</th>\n",
       "      <td>i am the wolf of wallstreet 😎</td>\n",
       "      <td>https://i.redd.it/bj9e85itfsye1.jpeg</td>\n",
       "      <td>2025-05-04 16:00:37</td>\n",
       "      <td>NaN</td>\n",
       "      <td>Reddit</td>\n",
       "    </tr>\n",
       "    <tr>\n",
       "      <th>3</th>\n",
       "      <td>Tarrifs are GOoD</td>\n",
       "      <td>https://i.redd.it/o5239z8jozxe1.jpeg</td>\n",
       "      <td>2025-04-30 15:17:48</td>\n",
       "      <td>NaN</td>\n",
       "      <td>Reddit</td>\n",
       "    </tr>\n",
       "    <tr>\n",
       "      <th>4</th>\n",
       "      <td>The clock is ticking down to zero, and Trump n...</td>\n",
       "      <td>https://amp.cnn.com/cnn/2025/05/05/business/tr...</td>\n",
       "      <td>2025-05-05 14:42:48</td>\n",
       "      <td>NaN</td>\n",
       "      <td>Reddit</td>\n",
       "    </tr>\n",
       "  </tbody>\n",
       "</table>\n",
       "</div>"
      ],
      "text/plain": [
       "                                               title  \\\n",
       "0  McDonald’s just had its worst quarter since Co...   \n",
       "1  Trump authorizes 100% tariff on foreign films,...   \n",
       "2                      i am the wolf of wallstreet 😎   \n",
       "3                                   Tarrifs are GOoD   \n",
       "4  The clock is ticking down to zero, and Trump n...   \n",
       "\n",
       "                                                 url          publishedAt  \\\n",
       "0  https://edition.cnn.com/2025/05/01/investing/m...  2025-05-01 19:17:42   \n",
       "1                https://i.redd.it/k80lxj9ppuye1.png  2025-05-04 23:40:39   \n",
       "2               https://i.redd.it/bj9e85itfsye1.jpeg  2025-05-04 16:00:37   \n",
       "3               https://i.redd.it/o5239z8jozxe1.jpeg  2025-04-30 15:17:48   \n",
       "4  https://amp.cnn.com/cnn/2025/05/05/business/tr...  2025-05-05 14:42:48   \n",
       "\n",
       "                                         description  source  \n",
       "0                                                NaN  Reddit  \n",
       "1  Source: [https://truthsocial.com/@realDonaldTr...  Reddit  \n",
       "2                                                NaN  Reddit  \n",
       "3                                                NaN  Reddit  \n",
       "4                                                NaN  Reddit  "
      ]
     },
     "execution_count": 42,
     "metadata": {},
     "output_type": "execute_result"
    }
   ],
   "source": [
    "import pandas as pd\n",
    "\n",
    "# Load datasets\n",
    "df_reddit = pd.read_csv(\"data/reddit_financial_news.csv\")\n",
    "df_yahoo = pd.read_csv(\"data/yahoo_financial_news.csv\")\n",
    "\n",
    "# Ensure consistent column names\n",
    "common_cols = [\"title\", \"url\", \"publishedAt\", \"description\", \"source\"]\n",
    "df_reddit = df_reddit[common_cols]\n",
    "df_yahoo = df_yahoo[common_cols]\n",
    "\n",
    "# Merge datasets\n",
    "df_all = pd.concat([df_reddit, df_yahoo], ignore_index=True)\n",
    "\n",
    "# Drop duplicates (if any)\n",
    "df_all.drop_duplicates(subset=[\"title\", \"url\"], inplace=True)\n",
    "\n",
    "# Save merged file\n",
    "df_all.to_csv(\"data/all_financial_news.csv\", index=False)\n",
    "\n",
    "df_all.head()\n"
   ]
  },
  {
   "cell_type": "code",
   "execution_count": 43,
   "id": "b9951e3f-08b2-403f-ab27-486793f708fd",
   "metadata": {},
   "outputs": [
    {
     "data": {
      "text/html": [
       "<div>\n",
       "<style scoped>\n",
       "    .dataframe tbody tr th:only-of-type {\n",
       "        vertical-align: middle;\n",
       "    }\n",
       "\n",
       "    .dataframe tbody tr th {\n",
       "        vertical-align: top;\n",
       "    }\n",
       "\n",
       "    .dataframe thead th {\n",
       "        text-align: right;\n",
       "    }\n",
       "</style>\n",
       "<table border=\"1\" class=\"dataframe\">\n",
       "  <thead>\n",
       "    <tr style=\"text-align: right;\">\n",
       "      <th></th>\n",
       "      <th>title</th>\n",
       "      <th>url</th>\n",
       "      <th>publishedAt</th>\n",
       "      <th>description</th>\n",
       "      <th>source</th>\n",
       "    </tr>\n",
       "  </thead>\n",
       "  <tbody>\n",
       "    <tr>\n",
       "      <th>0</th>\n",
       "      <td>McDonald’s just had its worst quarter since Co...</td>\n",
       "      <td>https://edition.cnn.com/2025/05/01/investing/m...</td>\n",
       "      <td>2025-05-01 19:17:42</td>\n",
       "      <td>NaN</td>\n",
       "      <td>Reddit</td>\n",
       "    </tr>\n",
       "    <tr>\n",
       "      <th>1</th>\n",
       "      <td>Trump authorizes 100% tariff on foreign films,...</td>\n",
       "      <td>https://i.redd.it/k80lxj9ppuye1.png</td>\n",
       "      <td>2025-05-04 23:40:39</td>\n",
       "      <td>Source: [https://truthsocial.com/@realDonaldTr...</td>\n",
       "      <td>Reddit</td>\n",
       "    </tr>\n",
       "    <tr>\n",
       "      <th>2</th>\n",
       "      <td>i am the wolf of wallstreet 😎</td>\n",
       "      <td>https://i.redd.it/bj9e85itfsye1.jpeg</td>\n",
       "      <td>2025-05-04 16:00:37</td>\n",
       "      <td>NaN</td>\n",
       "      <td>Reddit</td>\n",
       "    </tr>\n",
       "    <tr>\n",
       "      <th>3</th>\n",
       "      <td>Tarrifs are GOoD</td>\n",
       "      <td>https://i.redd.it/o5239z8jozxe1.jpeg</td>\n",
       "      <td>2025-04-30 15:17:48</td>\n",
       "      <td>NaN</td>\n",
       "      <td>Reddit</td>\n",
       "    </tr>\n",
       "    <tr>\n",
       "      <th>4</th>\n",
       "      <td>The clock is ticking down to zero, and Trump n...</td>\n",
       "      <td>https://amp.cnn.com/cnn/2025/05/05/business/tr...</td>\n",
       "      <td>2025-05-05 14:42:48</td>\n",
       "      <td>NaN</td>\n",
       "      <td>Reddit</td>\n",
       "    </tr>\n",
       "  </tbody>\n",
       "</table>\n",
       "</div>"
      ],
      "text/plain": [
       "                                               title  \\\n",
       "0  McDonald’s just had its worst quarter since Co...   \n",
       "1  Trump authorizes 100% tariff on foreign films,...   \n",
       "2                      i am the wolf of wallstreet 😎   \n",
       "3                                   Tarrifs are GOoD   \n",
       "4  The clock is ticking down to zero, and Trump n...   \n",
       "\n",
       "                                                 url          publishedAt  \\\n",
       "0  https://edition.cnn.com/2025/05/01/investing/m...  2025-05-01 19:17:42   \n",
       "1                https://i.redd.it/k80lxj9ppuye1.png  2025-05-04 23:40:39   \n",
       "2               https://i.redd.it/bj9e85itfsye1.jpeg  2025-05-04 16:00:37   \n",
       "3               https://i.redd.it/o5239z8jozxe1.jpeg  2025-04-30 15:17:48   \n",
       "4  https://amp.cnn.com/cnn/2025/05/05/business/tr...  2025-05-05 14:42:48   \n",
       "\n",
       "                                         description  source  \n",
       "0                                                NaN  Reddit  \n",
       "1  Source: [https://truthsocial.com/@realDonaldTr...  Reddit  \n",
       "2                                                NaN  Reddit  \n",
       "3                                                NaN  Reddit  \n",
       "4                                                NaN  Reddit  "
      ]
     },
     "execution_count": 43,
     "metadata": {},
     "output_type": "execute_result"
    }
   ],
   "source": [
    "# Load the financial_news.csv dataset (if available)\n",
    "df_financial_news = pd.read_csv(\"data/financial_news.csv\")\n",
    "\n",
    "# Ensure the column names are consistent across all datasets\n",
    "df_financial_news = df_financial_news[common_cols]\n",
    "\n",
    "# Merge everything into one final dataset\n",
    "df_all = pd.concat([df_reddit, df_yahoo, df_financial_news], ignore_index=True)\n",
    "\n",
    "# Drop duplicates based on title and URL\n",
    "df_all.drop_duplicates(subset=[\"title\", \"url\"], inplace=True)\n",
    "\n",
    "# Save the final merged dataset\n",
    "df_all.to_csv(\"data/all_financial_news.csv\", index=False)\n",
    "\n",
    "df_all.head()\n"
   ]
  },
  {
   "cell_type": "code",
   "execution_count": 44,
   "id": "de413be6-1d2c-4bd6-add4-71c1c12d662b",
   "metadata": {},
   "outputs": [
    {
     "name": "stdout",
     "output_type": "stream",
     "text": [
      "Requirement already satisfied: nltk in c:\\users\\sandi\\anaconda3\\lib\\site-packages (3.9.1)\n",
      "Requirement already satisfied: click in c:\\users\\sandi\\anaconda3\\lib\\site-packages (from nltk) (8.1.7)\n",
      "Requirement already satisfied: joblib in c:\\users\\sandi\\anaconda3\\lib\\site-packages (from nltk) (1.4.2)\n",
      "Requirement already satisfied: regex>=2021.8.3 in c:\\users\\sandi\\anaconda3\\lib\\site-packages (from nltk) (2024.9.11)\n",
      "Requirement already satisfied: tqdm in c:\\users\\sandi\\anaconda3\\lib\\site-packages (from nltk) (4.66.5)\n",
      "Requirement already satisfied: colorama in c:\\users\\sandi\\anaconda3\\lib\\site-packages (from click->nltk) (0.4.6)\n"
     ]
    }
   ],
   "source": [
    "!pip install nltk\n"
   ]
  },
  {
   "cell_type": "code",
   "execution_count": 45,
   "id": "ade45898-688f-48c2-b98d-5b21c97b7e25",
   "metadata": {},
   "outputs": [
    {
     "name": "stderr",
     "output_type": "stream",
     "text": [
      "[nltk_data] Downloading package vader_lexicon to\n",
      "[nltk_data]     C:\\Users\\sandi\\AppData\\Roaming\\nltk_data...\n"
     ]
    },
    {
     "data": {
      "text/plain": [
       "True"
      ]
     },
     "execution_count": 45,
     "metadata": {},
     "output_type": "execute_result"
    }
   ],
   "source": [
    "import nltk\n",
    "nltk.download('vader_lexicon')\n"
   ]
  },
  {
   "cell_type": "code",
   "execution_count": 46,
   "id": "f49a4c59-f83d-467d-870e-82e16be082c8",
   "metadata": {},
   "outputs": [
    {
     "data": {
      "text/html": [
       "<div>\n",
       "<style scoped>\n",
       "    .dataframe tbody tr th:only-of-type {\n",
       "        vertical-align: middle;\n",
       "    }\n",
       "\n",
       "    .dataframe tbody tr th {\n",
       "        vertical-align: top;\n",
       "    }\n",
       "\n",
       "    .dataframe thead th {\n",
       "        text-align: right;\n",
       "    }\n",
       "</style>\n",
       "<table border=\"1\" class=\"dataframe\">\n",
       "  <thead>\n",
       "    <tr style=\"text-align: right;\">\n",
       "      <th></th>\n",
       "      <th>publishedAt</th>\n",
       "      <th>source</th>\n",
       "      <th>title</th>\n",
       "      <th>sentiment_label</th>\n",
       "    </tr>\n",
       "  </thead>\n",
       "  <tbody>\n",
       "    <tr>\n",
       "      <th>0</th>\n",
       "      <td>2025-05-01 19:17:42</td>\n",
       "      <td>Reddit</td>\n",
       "      <td>McDonald’s just had its worst quarter since Co...</td>\n",
       "      <td>negative</td>\n",
       "    </tr>\n",
       "    <tr>\n",
       "      <th>1</th>\n",
       "      <td>2025-05-04 23:40:39</td>\n",
       "      <td>Reddit</td>\n",
       "      <td>Trump authorizes 100% tariff on foreign films,...</td>\n",
       "      <td>positive</td>\n",
       "    </tr>\n",
       "    <tr>\n",
       "      <th>2</th>\n",
       "      <td>2025-05-04 16:00:37</td>\n",
       "      <td>Reddit</td>\n",
       "      <td>i am the wolf of wallstreet 😎</td>\n",
       "      <td>neutral</td>\n",
       "    </tr>\n",
       "    <tr>\n",
       "      <th>3</th>\n",
       "      <td>2025-04-30 15:17:48</td>\n",
       "      <td>Reddit</td>\n",
       "      <td>Tarrifs are GOoD</td>\n",
       "      <td>positive</td>\n",
       "    </tr>\n",
       "    <tr>\n",
       "      <th>4</th>\n",
       "      <td>2025-05-05 14:42:48</td>\n",
       "      <td>Reddit</td>\n",
       "      <td>The clock is ticking down to zero, and Trump n...</td>\n",
       "      <td>negative</td>\n",
       "    </tr>\n",
       "    <tr>\n",
       "      <th>5</th>\n",
       "      <td>2025-05-05 21:32:48</td>\n",
       "      <td>Reddit</td>\n",
       "      <td>Recession coming? Some anecdotal signs...</td>\n",
       "      <td>negative</td>\n",
       "    </tr>\n",
       "    <tr>\n",
       "      <th>6</th>\n",
       "      <td>2025-04-30 12:36:26</td>\n",
       "      <td>Reddit</td>\n",
       "      <td>Real GDP falls to -.3% from 2.4%</td>\n",
       "      <td>neutral</td>\n",
       "    </tr>\n",
       "    <tr>\n",
       "      <th>7</th>\n",
       "      <td>2025-05-01 00:06:57</td>\n",
       "      <td>Reddit</td>\n",
       "      <td>Trump says he'll blame Biden again for 2nd qua...</td>\n",
       "      <td>negative</td>\n",
       "    </tr>\n",
       "    <tr>\n",
       "      <th>8</th>\n",
       "      <td>2025-05-03 15:54:36</td>\n",
       "      <td>Reddit</td>\n",
       "      <td>Buffett: This year's stock market turmoil 'is ...</td>\n",
       "      <td>negative</td>\n",
       "    </tr>\n",
       "    <tr>\n",
       "      <th>9</th>\n",
       "      <td>2025-05-02 12:09:22</td>\n",
       "      <td>Reddit</td>\n",
       "      <td>Is the US Headed for a Recession?</td>\n",
       "      <td>neutral</td>\n",
       "    </tr>\n",
       "  </tbody>\n",
       "</table>\n",
       "</div>"
      ],
      "text/plain": [
       "           publishedAt  source  \\\n",
       "0  2025-05-01 19:17:42  Reddit   \n",
       "1  2025-05-04 23:40:39  Reddit   \n",
       "2  2025-05-04 16:00:37  Reddit   \n",
       "3  2025-04-30 15:17:48  Reddit   \n",
       "4  2025-05-05 14:42:48  Reddit   \n",
       "5  2025-05-05 21:32:48  Reddit   \n",
       "6  2025-04-30 12:36:26  Reddit   \n",
       "7  2025-05-01 00:06:57  Reddit   \n",
       "8  2025-05-03 15:54:36  Reddit   \n",
       "9  2025-05-02 12:09:22  Reddit   \n",
       "\n",
       "                                               title sentiment_label  \n",
       "0  McDonald’s just had its worst quarter since Co...        negative  \n",
       "1  Trump authorizes 100% tariff on foreign films,...        positive  \n",
       "2                      i am the wolf of wallstreet 😎         neutral  \n",
       "3                                   Tarrifs are GOoD        positive  \n",
       "4  The clock is ticking down to zero, and Trump n...        negative  \n",
       "5          Recession coming? Some anecdotal signs...        negative  \n",
       "6                   Real GDP falls to -.3% from 2.4%         neutral  \n",
       "7  Trump says he'll blame Biden again for 2nd qua...        negative  \n",
       "8  Buffett: This year's stock market turmoil 'is ...        negative  \n",
       "9                  Is the US Headed for a Recession?         neutral  "
      ]
     },
     "execution_count": 46,
     "metadata": {},
     "output_type": "execute_result"
    }
   ],
   "source": [
    "from nltk.sentiment.vader import SentimentIntensityAnalyzer\n",
    "\n",
    "# Combine title + description for context\n",
    "df_all[\"text\"] = df_all[\"title\"].fillna(\"\") + \". \" + df_all[\"description\"].fillna(\"\")\n",
    "\n",
    "# Initialize analyzer\n",
    "sid = SentimentIntensityAnalyzer()\n",
    "\n",
    "# Apply sentiment scoring\n",
    "df_all[\"sentiment_score\"] = df_all[\"text\"].apply(lambda x: sid.polarity_scores(x)[\"compound\"])\n",
    "df_all[\"sentiment_label\"] = df_all[\"sentiment_score\"].apply(\n",
    "    lambda score: \"positive\" if score > 0.05 else (\"negative\" if score < -0.05 else \"neutral\")\n",
    ")\n",
    "\n",
    "# Save results\n",
    "df_all.to_csv(\"data/news_with_sentiment.csv\", index=False)\n",
    "df_all[[\"publishedAt\", \"source\", \"title\", \"sentiment_label\"]].head(10)\n"
   ]
  },
  {
   "cell_type": "code",
   "execution_count": 48,
   "id": "bf25847e-e226-45aa-8963-635e9257d14b",
   "metadata": {},
   "outputs": [
    {
     "data": {
      "text/plain": [
       "0   2025-05-01 19:17:42\n",
       "1   2025-05-04 23:40:39\n",
       "2   2025-05-04 16:00:37\n",
       "3   2025-04-30 15:17:48\n",
       "4   2025-05-05 14:42:48\n",
       "Name: publishedAt, dtype: datetime64[ns]"
      ]
     },
     "execution_count": 48,
     "metadata": {},
     "output_type": "execute_result"
    }
   ],
   "source": [
    "# Automatically infer datetime format and handle errors\n",
    "df_all['publishedAt'] = pd.to_datetime(df_all['publishedAt'], errors='coerce')\n",
    "\n",
    "# Check the conversion\n",
    "df_all['publishedAt'].head()\n"
   ]
  },
  {
   "cell_type": "code",
   "execution_count": 49,
   "id": "d1733b5e-639c-4695-96dd-faff2518a470",
   "metadata": {},
   "outputs": [
    {
     "data": {
      "text/plain": [
       "0   2025-05-01 19:17:42\n",
       "1   2025-05-04 23:40:39\n",
       "2   2025-05-04 16:00:37\n",
       "3   2025-04-30 15:17:48\n",
       "4   2025-05-05 14:42:48\n",
       "Name: publishedAt, dtype: datetime64[ns]"
      ]
     },
     "execution_count": 49,
     "metadata": {},
     "output_type": "execute_result"
    }
   ],
   "source": [
    "# Automatically infer datetime format and handle errors\n",
    "df_all['publishedAt'] = pd.to_datetime(df_all['publishedAt'], errors='coerce')\n",
    "\n",
    "# Check the conversion\n",
    "df_all['publishedAt'].head()\n"
   ]
  },
  {
   "cell_type": "code",
   "execution_count": 51,
   "id": "48c6ba93-0293-4334-9222-92b10ce85563",
   "metadata": {},
   "outputs": [
    {
     "data": {
      "text/plain": [
       "0   2025-05-01 19:17:42\n",
       "1   2025-05-04 23:40:39\n",
       "2   2025-05-04 16:00:37\n",
       "3   2025-04-30 15:17:48\n",
       "4   2025-05-05 14:42:48\n",
       "Name: publishedAt, dtype: datetime64[ns]"
      ]
     },
     "execution_count": 51,
     "metadata": {},
     "output_type": "execute_result"
    }
   ],
   "source": [
    "# Remove 'Z' (UTC timezone) if present and convert to datetime\n",
    "df_all['publishedAt'] = df_all['publishedAt'].str.replace('Z', '', regex=False)\n",
    "df_all['publishedAt'] = pd.to_datetime(df_all['publishedAt'], errors='coerce')\n",
    "\n",
    "# Check the conversion\n",
    "df_all['publishedAt'].head()\n"
   ]
  },
  {
   "cell_type": "code",
   "execution_count": 53,
   "id": "27ccf6b9-9e2b-427e-8309-5036f4ccbb99",
   "metadata": {},
   "outputs": [
    {
     "name": "stderr",
     "output_type": "stream",
     "text": [
      "C:\\Users\\sandi\\AppData\\Local\\Temp\\ipykernel_25740\\1244925756.py:6: FutureWarning: In a future version of pandas, parsing datetimes with mixed time zones will raise an error unless `utc=True`. Please specify `utc=True` to opt in to the new behaviour and silence this warning. To create a `Series` with mixed offsets and `object` dtype, please use `apply` and `datetime.datetime.strptime`\n",
      "  df_all['publishedAt'] = pd.to_datetime(df_all['publishedAt'], errors='coerce', format='ISO8601')\n"
     ]
    },
    {
     "ename": "TypeError",
     "evalue": "Cannot compare tz-naive and tz-aware timestamps",
     "output_type": "error",
     "traceback": [
      "\u001b[1;31m---------------------------------------------------------------------------\u001b[0m",
      "\u001b[1;31mTypeError\u001b[0m                                 Traceback (most recent call last)",
      "Cell \u001b[1;32mIn[53], line 12\u001b[0m\n\u001b[0;32m      9\u001b[0m df_all\u001b[38;5;241m.\u001b[39mdropna(subset\u001b[38;5;241m=\u001b[39m[\u001b[38;5;124m'\u001b[39m\u001b[38;5;124mpublishedAt\u001b[39m\u001b[38;5;124m'\u001b[39m], inplace\u001b[38;5;241m=\u001b[39m\u001b[38;5;28;01mTrue\u001b[39;00m)\n\u001b[0;32m     11\u001b[0m \u001b[38;5;66;03m# Sort values\u001b[39;00m\n\u001b[1;32m---> 12\u001b[0m df_all\u001b[38;5;241m.\u001b[39msort_values(by\u001b[38;5;241m=\u001b[39m\u001b[38;5;124m'\u001b[39m\u001b[38;5;124mpublishedAt\u001b[39m\u001b[38;5;124m'\u001b[39m, ascending\u001b[38;5;241m=\u001b[39m\u001b[38;5;28;01mTrue\u001b[39;00m, inplace\u001b[38;5;241m=\u001b[39m\u001b[38;5;28;01mTrue\u001b[39;00m)\n\u001b[0;32m     14\u001b[0m df_all[\u001b[38;5;124m'\u001b[39m\u001b[38;5;124mpublishedAt\u001b[39m\u001b[38;5;124m'\u001b[39m]\u001b[38;5;241m.\u001b[39mhead()\n",
      "File \u001b[1;32m~\\anaconda3\\Lib\\site-packages\\pandas\\core\\frame.py:7200\u001b[0m, in \u001b[0;36mDataFrame.sort_values\u001b[1;34m(self, by, axis, ascending, inplace, kind, na_position, ignore_index, key)\u001b[0m\n\u001b[0;32m   7197\u001b[0m     \u001b[38;5;28;01mif\u001b[39;00m \u001b[38;5;28misinstance\u001b[39m(ascending, (\u001b[38;5;28mtuple\u001b[39m, \u001b[38;5;28mlist\u001b[39m)):\n\u001b[0;32m   7198\u001b[0m         ascending \u001b[38;5;241m=\u001b[39m ascending[\u001b[38;5;241m0\u001b[39m]\n\u001b[1;32m-> 7200\u001b[0m     indexer \u001b[38;5;241m=\u001b[39m nargsort(\n\u001b[0;32m   7201\u001b[0m         k, kind\u001b[38;5;241m=\u001b[39mkind, ascending\u001b[38;5;241m=\u001b[39mascending, na_position\u001b[38;5;241m=\u001b[39mna_position, key\u001b[38;5;241m=\u001b[39mkey\n\u001b[0;32m   7202\u001b[0m     )\n\u001b[0;32m   7203\u001b[0m \u001b[38;5;28;01melse\u001b[39;00m:\n\u001b[0;32m   7204\u001b[0m     \u001b[38;5;28;01mif\u001b[39;00m inplace:\n",
      "File \u001b[1;32m~\\anaconda3\\Lib\\site-packages\\pandas\\core\\sorting.py:439\u001b[0m, in \u001b[0;36mnargsort\u001b[1;34m(items, kind, ascending, na_position, key, mask)\u001b[0m\n\u001b[0;32m    437\u001b[0m     non_nans \u001b[38;5;241m=\u001b[39m non_nans[::\u001b[38;5;241m-\u001b[39m\u001b[38;5;241m1\u001b[39m]\n\u001b[0;32m    438\u001b[0m     non_nan_idx \u001b[38;5;241m=\u001b[39m non_nan_idx[::\u001b[38;5;241m-\u001b[39m\u001b[38;5;241m1\u001b[39m]\n\u001b[1;32m--> 439\u001b[0m indexer \u001b[38;5;241m=\u001b[39m non_nan_idx[non_nans\u001b[38;5;241m.\u001b[39margsort(kind\u001b[38;5;241m=\u001b[39mkind)]\n\u001b[0;32m    440\u001b[0m \u001b[38;5;28;01mif\u001b[39;00m \u001b[38;5;129;01mnot\u001b[39;00m ascending:\n\u001b[0;32m    441\u001b[0m     indexer \u001b[38;5;241m=\u001b[39m indexer[::\u001b[38;5;241m-\u001b[39m\u001b[38;5;241m1\u001b[39m]\n",
      "File \u001b[1;32mtimestamps.pyx:387\u001b[0m, in \u001b[0;36mpandas._libs.tslibs.timestamps._Timestamp.__richcmp__\u001b[1;34m()\u001b[0m\n",
      "\u001b[1;31mTypeError\u001b[0m: Cannot compare tz-naive and tz-aware timestamps"
     ]
    }
   ],
   "source": [
    "import pandas as pd\n",
    "\n",
    "df_all = pd.read_csv(\"data/all_financial_news.csv\")\n",
    "\n",
    "# Fix datetime parsing by allowing mixed or ISO formats\n",
    "df_all['publishedAt'] = pd.to_datetime(df_all['publishedAt'], errors='coerce', format='ISO8601')\n",
    "\n",
    "# Drop rows where datetime conversion failed\n",
    "df_all.dropna(subset=['publishedAt'], inplace=True)\n",
    "\n",
    "# Sort values\n",
    "df_all.sort_values(by='publishedAt', ascending=True, inplace=True)\n",
    "\n",
    "df_all['publishedAt'].head()\n"
   ]
  },
  {
   "cell_type": "code",
   "execution_count": 54,
   "id": "94f220ae-52a9-49d6-ac78-1bffc8813e5f",
   "metadata": {},
   "outputs": [
    {
     "data": {
      "text/plain": [
       "339   2025-04-15 16:01:54+00:00\n",
       "60    2025-04-30 10:48:27+00:00\n",
       "140   2025-04-30 11:06:22+00:00\n",
       "104   2025-04-30 11:06:59+00:00\n",
       "88    2025-04-30 11:29:10+00:00\n",
       "Name: publishedAt, dtype: datetime64[ns, UTC]"
      ]
     },
     "execution_count": 54,
     "metadata": {},
     "output_type": "execute_result"
    }
   ],
   "source": [
    "import pandas as pd\n",
    "\n",
    "# Load data\n",
    "df_all = pd.read_csv(\"data/all_financial_news.csv\")\n",
    "\n",
    "# Convert to datetime in UTC to make all timestamps tz-aware\n",
    "df_all['publishedAt'] = pd.to_datetime(df_all['publishedAt'], errors='coerce', utc=True)\n",
    "\n",
    "# Drop rows with invalid dates\n",
    "df_all.dropna(subset=['publishedAt'], inplace=True)\n",
    "\n",
    "# Sort chronologically\n",
    "df_all.sort_values(by='publishedAt', ascending=True, inplace=True)\n",
    "\n",
    "# Preview\n",
    "df_all['publishedAt'].head()\n"
   ]
  },
  {
   "cell_type": "code",
   "execution_count": 56,
   "id": "3c59430b-cf2f-403a-94a9-daccf7d0dc4b",
   "metadata": {},
   "outputs": [
    {
     "name": "stdout",
     "output_type": "stream",
     "text": [
      "Requirement already satisfied: vaderSentiment in c:\\users\\sandi\\anaconda3\\lib\\site-packages (3.3.2)\n",
      "Requirement already satisfied: requests in c:\\users\\sandi\\anaconda3\\lib\\site-packages (from vaderSentiment) (2.32.3)\n",
      "Requirement already satisfied: charset-normalizer<4,>=2 in c:\\users\\sandi\\anaconda3\\lib\\site-packages (from requests->vaderSentiment) (3.3.2)\n",
      "Requirement already satisfied: idna<4,>=2.5 in c:\\users\\sandi\\anaconda3\\lib\\site-packages (from requests->vaderSentiment) (3.7)\n",
      "Requirement already satisfied: urllib3<3,>=1.21.1 in c:\\users\\sandi\\anaconda3\\lib\\site-packages (from requests->vaderSentiment) (2.2.3)\n",
      "Requirement already satisfied: certifi>=2017.4.17 in c:\\users\\sandi\\anaconda3\\lib\\site-packages (from requests->vaderSentiment) (2025.4.26)\n"
     ]
    }
   ],
   "source": [
    "!pip install vaderSentiment\n",
    "\n",
    "import pandas as pd\n",
    "from vaderSentiment.vaderSentiment import SentimentIntensityAnalyzer\n"
   ]
  },
  {
   "cell_type": "code",
   "execution_count": 58,
   "id": "b6228417-56eb-474a-aa36-8189c21cbdb3",
   "metadata": {},
   "outputs": [],
   "source": [
    "# Ensure datetime format (force conversion)\n",
    "df_all['publishedAt'] = pd.to_datetime(df_all['publishedAt'], errors='coerce', utc=True)\n",
    "\n",
    "# Drop rows where datetime conversion failed\n",
    "df_all.dropna(subset=['publishedAt'], inplace=True)\n",
    "\n",
    "# Now extract the date\n",
    "df_all['date'] = df_all['publishedAt'].dt.date\n"
   ]
  },
  {
   "cell_type": "code",
   "execution_count": 59,
   "id": "81a58d79-517e-42d8-b52a-44cb9d4cba7b",
   "metadata": {},
   "outputs": [
    {
     "data": {
      "text/html": [
       "<div>\n",
       "<style scoped>\n",
       "    .dataframe tbody tr th:only-of-type {\n",
       "        vertical-align: middle;\n",
       "    }\n",
       "\n",
       "    .dataframe tbody tr th {\n",
       "        vertical-align: top;\n",
       "    }\n",
       "\n",
       "    .dataframe thead th {\n",
       "        text-align: right;\n",
       "    }\n",
       "</style>\n",
       "<table border=\"1\" class=\"dataframe\">\n",
       "  <thead>\n",
       "    <tr style=\"text-align: right;\">\n",
       "      <th></th>\n",
       "      <th>date</th>\n",
       "      <th>sentiment_score</th>\n",
       "      <th>risk_alert</th>\n",
       "    </tr>\n",
       "  </thead>\n",
       "  <tbody>\n",
       "  </tbody>\n",
       "</table>\n",
       "</div>"
      ],
      "text/plain": [
       "Empty DataFrame\n",
       "Columns: [date, sentiment_score, risk_alert]\n",
       "Index: []"
      ]
     },
     "execution_count": 59,
     "metadata": {},
     "output_type": "execute_result"
    }
   ],
   "source": [
    "# Group by date to get daily average sentiment\n",
    "daily_sentiment = df_all.groupby('date')['sentiment_score'].mean().reset_index()\n",
    "\n",
    "# Add risk alert flag based on threshold\n",
    "risk_threshold = -0.3\n",
    "daily_sentiment['risk_alert'] = daily_sentiment['sentiment_score'] < risk_threshold\n",
    "\n",
    "# Display risky days\n",
    "daily_sentiment[daily_sentiment['risk_alert']]\n"
   ]
  },
  {
   "cell_type": "code",
   "execution_count": 60,
   "id": "b63d0af3-7b98-4c54-b7f0-2cef87434575",
   "metadata": {},
   "outputs": [
    {
     "data": {
      "text/html": [
       "<div>\n",
       "<style scoped>\n",
       "    .dataframe tbody tr th:only-of-type {\n",
       "        vertical-align: middle;\n",
       "    }\n",
       "\n",
       "    .dataframe tbody tr th {\n",
       "        vertical-align: top;\n",
       "    }\n",
       "\n",
       "    .dataframe thead th {\n",
       "        text-align: right;\n",
       "    }\n",
       "</style>\n",
       "<table border=\"1\" class=\"dataframe\">\n",
       "  <thead>\n",
       "    <tr style=\"text-align: right;\">\n",
       "      <th></th>\n",
       "      <th>date</th>\n",
       "      <th>sentiment_score</th>\n",
       "      <th>risk_alert</th>\n",
       "    </tr>\n",
       "  </thead>\n",
       "  <tbody>\n",
       "  </tbody>\n",
       "</table>\n",
       "</div>"
      ],
      "text/plain": [
       "Empty DataFrame\n",
       "Columns: [date, sentiment_score, risk_alert]\n",
       "Index: []"
      ]
     },
     "execution_count": 60,
     "metadata": {},
     "output_type": "execute_result"
    }
   ],
   "source": [
    "# Define risk threshold\n",
    "risk_threshold = -0.3\n",
    "\n",
    "# Add risk alert flag\n",
    "daily_sentiment['risk_alert'] = daily_sentiment['sentiment_score'] < risk_threshold\n",
    "\n",
    "# Show risky days\n",
    "risky_days = daily_sentiment[daily_sentiment['risk_alert'] == True]\n",
    "risky_days\n"
   ]
  },
  {
   "cell_type": "code",
   "execution_count": 61,
   "id": "f385b8f5-a4c5-4253-b59b-184465dfad31",
   "metadata": {},
   "outputs": [
    {
     "data": {
      "image/png": "[encoded data removed]",
      "text/plain": [
       "<Figure size 1200x500 with 1 Axes>"
      ]
     },
     "metadata": {},
     "output_type": "display_data"
    }
   ],
   "source": [
    "import matplotlib.pyplot as plt\n",
    "\n",
    "plt.figure(figsize=(12, 5))\n",
    "plt.plot(daily_sentiment['date'], daily_sentiment['sentiment_score'], marker='o')\n",
    "plt.axhline(y=risk_threshold, color='red', linestyle='--', label='Risk Threshold')\n",
    "plt.title(\"Daily Average Financial Sentiment\")\n",
    "plt.xlabel(\"Date\")\n",
    "plt.ylabel(\"Sentiment Score\")\n",
    "plt.legend()\n",
    "plt.grid(True)\n",
    "plt.show()\n"
   ]
  },
  {
   "cell_type": "code",
   "execution_count": 62,
   "id": "e8b5e0b5-e894-4c1c-9b80-403aba2fc65b",
   "metadata": {},
   "outputs": [
    {
     "data": {
      "text/html": [
       "<div>\n",
       "<style scoped>\n",
       "    .dataframe tbody tr th:only-of-type {\n",
       "        vertical-align: middle;\n",
       "    }\n",
       "\n",
       "    .dataframe tbody tr th {\n",
       "        vertical-align: top;\n",
       "    }\n",
       "\n",
       "    .dataframe thead th {\n",
       "        text-align: right;\n",
       "    }\n",
       "</style>\n",
       "<table border=\"1\" class=\"dataframe\">\n",
       "  <thead>\n",
       "    <tr style=\"text-align: right;\">\n",
       "      <th></th>\n",
       "      <th>date</th>\n",
       "      <th>sentiment_score</th>\n",
       "      <th>rolling_sentiment</th>\n",
       "      <th>risk_level</th>\n",
       "    </tr>\n",
       "  </thead>\n",
       "  <tbody>\n",
       "    <tr>\n",
       "      <th>0</th>\n",
       "      <td>2025-04-15</td>\n",
       "      <td>0.000000</td>\n",
       "      <td>NaN</td>\n",
       "      <td>🟢 Low Risk</td>\n",
       "    </tr>\n",
       "    <tr>\n",
       "      <th>1</th>\n",
       "      <td>2025-04-30</td>\n",
       "      <td>0.029486</td>\n",
       "      <td>NaN</td>\n",
       "      <td>🟢 Low Risk</td>\n",
       "    </tr>\n",
       "    <tr>\n",
       "      <th>2</th>\n",
       "      <td>2025-05-01</td>\n",
       "      <td>0.237574</td>\n",
       "      <td>0.089020</td>\n",
       "      <td>🟢 Low Risk</td>\n",
       "    </tr>\n",
       "    <tr>\n",
       "      <th>3</th>\n",
       "      <td>2025-05-02</td>\n",
       "      <td>0.183134</td>\n",
       "      <td>0.150064</td>\n",
       "      <td>🟢 Low Risk</td>\n",
       "    </tr>\n",
       "    <tr>\n",
       "      <th>4</th>\n",
       "      <td>2025-05-03</td>\n",
       "      <td>0.254621</td>\n",
       "      <td>0.225109</td>\n",
       "      <td>🟢 Low Risk</td>\n",
       "    </tr>\n",
       "    <tr>\n",
       "      <th>5</th>\n",
       "      <td>2025-05-04</td>\n",
       "      <td>0.152050</td>\n",
       "      <td>0.196602</td>\n",
       "      <td>🟢 Low Risk</td>\n",
       "    </tr>\n",
       "    <tr>\n",
       "      <th>6</th>\n",
       "      <td>2025-05-05</td>\n",
       "      <td>0.170705</td>\n",
       "      <td>0.192459</td>\n",
       "      <td>🟢 Low Risk</td>\n",
       "    </tr>\n",
       "    <tr>\n",
       "      <th>7</th>\n",
       "      <td>2025-05-06</td>\n",
       "      <td>0.236311</td>\n",
       "      <td>0.186355</td>\n",
       "      <td>🟢 Low Risk</td>\n",
       "    </tr>\n",
       "    <tr>\n",
       "      <th>8</th>\n",
       "      <td>2025-05-07</td>\n",
       "      <td>0.133508</td>\n",
       "      <td>0.180175</td>\n",
       "      <td>🟢 Low Risk</td>\n",
       "    </tr>\n",
       "  </tbody>\n",
       "</table>\n",
       "</div>"
      ],
      "text/plain": [
       "         date  sentiment_score  rolling_sentiment  risk_level\n",
       "0  2025-04-15         0.000000                NaN  🟢 Low Risk\n",
       "1  2025-04-30         0.029486                NaN  🟢 Low Risk\n",
       "2  2025-05-01         0.237574           0.089020  🟢 Low Risk\n",
       "3  2025-05-02         0.183134           0.150064  🟢 Low Risk\n",
       "4  2025-05-03         0.254621           0.225109  🟢 Low Risk\n",
       "5  2025-05-04         0.152050           0.196602  🟢 Low Risk\n",
       "6  2025-05-05         0.170705           0.192459  🟢 Low Risk\n",
       "7  2025-05-06         0.236311           0.186355  🟢 Low Risk\n",
       "8  2025-05-07         0.133508           0.180175  🟢 Low Risk"
      ]
     },
     "execution_count": 62,
     "metadata": {},
     "output_type": "execute_result"
    }
   ],
   "source": [
    "# Step 1: Create a 'date' column (drop the time part)\n",
    "df_all['date'] = df_all['publishedAt'].dt.date\n",
    "\n",
    "# Step 2: Aggregate sentiment per day (mean sentiment)\n",
    "daily_sentiment = df_all.groupby('date')['sentiment_score'].mean().reset_index()\n",
    "\n",
    "# Step 3: Calculate a 3-day rolling average\n",
    "daily_sentiment['rolling_sentiment'] = daily_sentiment['sentiment_score'].rolling(window=3).mean()\n",
    "\n",
    "# Step 4: Define risk levels based on thresholds\n",
    "def classify_risk(score):\n",
    "    if score < -0.2:\n",
    "        return '🔴 High Risk'\n",
    "    elif score < 0:\n",
    "        return '🟠 Medium Risk'\n",
    "    else:\n",
    "        return '🟢 Low Risk'\n",
    "\n",
    "daily_sentiment['risk_level'] = daily_sentiment['rolling_sentiment'].apply(classify_risk)\n",
    "\n",
    "# Show the results\n",
    "daily_sentiment.tail(10)\n"
   ]
  },
  {
   "cell_type": "code",
   "execution_count": 63,
   "id": "09eba3af-4f84-457d-ae03-a8cdcbc71dfd",
   "metadata": {},
   "outputs": [
    {
     "ename": "KeyError",
     "evalue": "'risk_alert'",
     "output_type": "error",
     "traceback": [
      "\u001b[1;31m---------------------------------------------------------------------------\u001b[0m",
      "\u001b[1;31mKeyError\u001b[0m                                  Traceback (most recent call last)",
      "File \u001b[1;32m~\\anaconda3\\Lib\\site-packages\\pandas\\core\\indexes\\base.py:3805\u001b[0m, in \u001b[0;36mIndex.get_loc\u001b[1;34m(self, key)\u001b[0m\n\u001b[0;32m   3804\u001b[0m \u001b[38;5;28;01mtry\u001b[39;00m:\n\u001b[1;32m-> 3805\u001b[0m     \u001b[38;5;28;01mreturn\u001b[39;00m \u001b[38;5;28mself\u001b[39m\u001b[38;5;241m.\u001b[39m_engine\u001b[38;5;241m.\u001b[39mget_loc(casted_key)\n\u001b[0;32m   3806\u001b[0m \u001b[38;5;28;01mexcept\u001b[39;00m \u001b[38;5;167;01mKeyError\u001b[39;00m \u001b[38;5;28;01mas\u001b[39;00m err:\n",
      "File \u001b[1;32mindex.pyx:167\u001b[0m, in \u001b[0;36mpandas._libs.index.IndexEngine.get_loc\u001b[1;34m()\u001b[0m\n",
      "File \u001b[1;32mindex.pyx:196\u001b[0m, in \u001b[0;36mpandas._libs.index.IndexEngine.get_loc\u001b[1;34m()\u001b[0m\n",
      "File \u001b[1;32mpandas\\\\_libs\\\\hashtable_class_helper.pxi:7081\u001b[0m, in \u001b[0;36mpandas._libs.hashtable.PyObjectHashTable.get_item\u001b[1;34m()\u001b[0m\n",
      "File \u001b[1;32mpandas\\\\_libs\\\\hashtable_class_helper.pxi:7089\u001b[0m, in \u001b[0;36mpandas._libs.hashtable.PyObjectHashTable.get_item\u001b[1;34m()\u001b[0m\n",
      "\u001b[1;31mKeyError\u001b[0m: 'risk_alert'",
      "\nThe above exception was the direct cause of the following exception:\n",
      "\u001b[1;31mKeyError\u001b[0m                                  Traceback (most recent call last)",
      "Cell \u001b[1;32mIn[63], line 8\u001b[0m\n\u001b[0;32m      5\u001b[0m plt\u001b[38;5;241m.\u001b[39mplot(daily_sentiment[\u001b[38;5;124m'\u001b[39m\u001b[38;5;124mdate\u001b[39m\u001b[38;5;124m'\u001b[39m], daily_sentiment[\u001b[38;5;124m'\u001b[39m\u001b[38;5;124msentiment_score\u001b[39m\u001b[38;5;124m'\u001b[39m], marker\u001b[38;5;241m=\u001b[39m\u001b[38;5;124m'\u001b[39m\u001b[38;5;124mo\u001b[39m\u001b[38;5;124m'\u001b[39m, label\u001b[38;5;241m=\u001b[39m\u001b[38;5;124m'\u001b[39m\u001b[38;5;124mSentiment Score\u001b[39m\u001b[38;5;124m'\u001b[39m)\n\u001b[0;32m      7\u001b[0m \u001b[38;5;66;03m# Highlight risk alert days\u001b[39;00m\n\u001b[1;32m----> 8\u001b[0m risk_days \u001b[38;5;241m=\u001b[39m daily_sentiment[daily_sentiment[\u001b[38;5;124m'\u001b[39m\u001b[38;5;124mrisk_alert\u001b[39m\u001b[38;5;124m'\u001b[39m]]\n\u001b[0;32m      9\u001b[0m plt\u001b[38;5;241m.\u001b[39mscatter(risk_days[\u001b[38;5;124m'\u001b[39m\u001b[38;5;124mdate\u001b[39m\u001b[38;5;124m'\u001b[39m], risk_days[\u001b[38;5;124m'\u001b[39m\u001b[38;5;124msentiment_score\u001b[39m\u001b[38;5;124m'\u001b[39m], color\u001b[38;5;241m=\u001b[39m\u001b[38;5;124m'\u001b[39m\u001b[38;5;124mred\u001b[39m\u001b[38;5;124m'\u001b[39m, label\u001b[38;5;241m=\u001b[39m\u001b[38;5;124m'\u001b[39m\u001b[38;5;124mRisk Alert\u001b[39m\u001b[38;5;124m'\u001b[39m, zorder\u001b[38;5;241m=\u001b[39m\u001b[38;5;241m5\u001b[39m)\n\u001b[0;32m     11\u001b[0m \u001b[38;5;66;03m# Plot formatting\u001b[39;00m\n",
      "File \u001b[1;32m~\\anaconda3\\Lib\\site-packages\\pandas\\core\\frame.py:4102\u001b[0m, in \u001b[0;36mDataFrame.__getitem__\u001b[1;34m(self, key)\u001b[0m\n\u001b[0;32m   4100\u001b[0m \u001b[38;5;28;01mif\u001b[39;00m \u001b[38;5;28mself\u001b[39m\u001b[38;5;241m.\u001b[39mcolumns\u001b[38;5;241m.\u001b[39mnlevels \u001b[38;5;241m>\u001b[39m \u001b[38;5;241m1\u001b[39m:\n\u001b[0;32m   4101\u001b[0m     \u001b[38;5;28;01mreturn\u001b[39;00m \u001b[38;5;28mself\u001b[39m\u001b[38;5;241m.\u001b[39m_getitem_multilevel(key)\n\u001b[1;32m-> 4102\u001b[0m indexer \u001b[38;5;241m=\u001b[39m \u001b[38;5;28mself\u001b[39m\u001b[38;5;241m.\u001b[39mcolumns\u001b[38;5;241m.\u001b[39mget_loc(key)\n\u001b[0;32m   4103\u001b[0m \u001b[38;5;28;01mif\u001b[39;00m is_integer(indexer):\n\u001b[0;32m   4104\u001b[0m     indexer \u001b[38;5;241m=\u001b[39m [indexer]\n",
      "File \u001b[1;32m~\\anaconda3\\Lib\\site-packages\\pandas\\core\\indexes\\base.py:3812\u001b[0m, in \u001b[0;36mIndex.get_loc\u001b[1;34m(self, key)\u001b[0m\n\u001b[0;32m   3807\u001b[0m     \u001b[38;5;28;01mif\u001b[39;00m \u001b[38;5;28misinstance\u001b[39m(casted_key, \u001b[38;5;28mslice\u001b[39m) \u001b[38;5;129;01mor\u001b[39;00m (\n\u001b[0;32m   3808\u001b[0m         \u001b[38;5;28misinstance\u001b[39m(casted_key, abc\u001b[38;5;241m.\u001b[39mIterable)\n\u001b[0;32m   3809\u001b[0m         \u001b[38;5;129;01mand\u001b[39;00m \u001b[38;5;28many\u001b[39m(\u001b[38;5;28misinstance\u001b[39m(x, \u001b[38;5;28mslice\u001b[39m) \u001b[38;5;28;01mfor\u001b[39;00m x \u001b[38;5;129;01min\u001b[39;00m casted_key)\n\u001b[0;32m   3810\u001b[0m     ):\n\u001b[0;32m   3811\u001b[0m         \u001b[38;5;28;01mraise\u001b[39;00m InvalidIndexError(key)\n\u001b[1;32m-> 3812\u001b[0m     \u001b[38;5;28;01mraise\u001b[39;00m \u001b[38;5;167;01mKeyError\u001b[39;00m(key) \u001b[38;5;28;01mfrom\u001b[39;00m \u001b[38;5;21;01merr\u001b[39;00m\n\u001b[0;32m   3813\u001b[0m \u001b[38;5;28;01mexcept\u001b[39;00m \u001b[38;5;167;01mTypeError\u001b[39;00m:\n\u001b[0;32m   3814\u001b[0m     \u001b[38;5;66;03m# If we have a listlike key, _check_indexing_error will raise\u001b[39;00m\n\u001b[0;32m   3815\u001b[0m     \u001b[38;5;66;03m#  InvalidIndexError. Otherwise we fall through and re-raise\u001b[39;00m\n\u001b[0;32m   3816\u001b[0m     \u001b[38;5;66;03m#  the TypeError.\u001b[39;00m\n\u001b[0;32m   3817\u001b[0m     \u001b[38;5;28mself\u001b[39m\u001b[38;5;241m.\u001b[39m_check_indexing_error(key)\n",
      "\u001b[1;31mKeyError\u001b[0m: 'risk_alert'"
     ]
    },
    {
     "data": {
      "image/png": "[encoded data removed]",
      "text/plain": [
       "<Figure size 1400x600 with 1 Axes>"
      ]
     },
     "metadata": {},
     "output_type": "display_data"
    }
   ],
   "source": [
    "import matplotlib.pyplot as plt\n",
    "\n",
    "# Plot daily sentiment\n",
    "plt.figure(figsize=(14, 6))\n",
    "plt.plot(daily_sentiment['date'], daily_sentiment['sentiment_score'], marker='o', label='Sentiment Score')\n",
    "\n",
    "# Highlight risk alert days\n",
    "risk_days = daily_sentiment[daily_sentiment['risk_alert']]\n",
    "plt.scatter(risk_days['date'], risk_days['sentiment_score'], color='red', label='Risk Alert', zorder=5)\n",
    "\n",
    "# Plot formatting\n",
    "plt.axhline(y=risk_threshold, color='gray', linestyle='--', label='Risk Threshold')\n",
    "plt.title('Daily Financial News Sentiment with Risk Alerts')\n",
    "plt.xlabel('Date')\n",
    "plt.ylabel('Average Sentiment Score')\n",
    "plt.legend()\n",
    "plt.grid(True)\n",
    "plt.tight_layout()\n",
    "plt.xticks(rotation=45)\n",
    "plt.show()\n"
   ]
  },
  {
   "cell_type": "code",
   "execution_count": 64,
   "id": "bdbb005f-5f1f-43d6-a74b-4fa246092a61",
   "metadata": {},
   "outputs": [
    {
     "ename": "KeyError",
     "evalue": "'risk_alert'",
     "output_type": "error",
     "traceback": [
      "\u001b[1;31m---------------------------------------------------------------------------\u001b[0m",
      "\u001b[1;31mKeyError\u001b[0m                                  Traceback (most recent call last)",
      "File \u001b[1;32m~\\anaconda3\\Lib\\site-packages\\pandas\\core\\indexes\\base.py:3805\u001b[0m, in \u001b[0;36mIndex.get_loc\u001b[1;34m(self, key)\u001b[0m\n\u001b[0;32m   3804\u001b[0m \u001b[38;5;28;01mtry\u001b[39;00m:\n\u001b[1;32m-> 3805\u001b[0m     \u001b[38;5;28;01mreturn\u001b[39;00m \u001b[38;5;28mself\u001b[39m\u001b[38;5;241m.\u001b[39m_engine\u001b[38;5;241m.\u001b[39mget_loc(casted_key)\n\u001b[0;32m   3806\u001b[0m \u001b[38;5;28;01mexcept\u001b[39;00m \u001b[38;5;167;01mKeyError\u001b[39;00m \u001b[38;5;28;01mas\u001b[39;00m err:\n",
      "File \u001b[1;32mindex.pyx:167\u001b[0m, in \u001b[0;36mpandas._libs.index.IndexEngine.get_loc\u001b[1;34m()\u001b[0m\n",
      "File \u001b[1;32mindex.pyx:196\u001b[0m, in \u001b[0;36mpandas._libs.index.IndexEngine.get_loc\u001b[1;34m()\u001b[0m\n",
      "File \u001b[1;32mpandas\\\\_libs\\\\hashtable_class_helper.pxi:7081\u001b[0m, in \u001b[0;36mpandas._libs.hashtable.PyObjectHashTable.get_item\u001b[1;34m()\u001b[0m\n",
      "File \u001b[1;32mpandas\\\\_libs\\\\hashtable_class_helper.pxi:7089\u001b[0m, in \u001b[0;36mpandas._libs.hashtable.PyObjectHashTable.get_item\u001b[1;34m()\u001b[0m\n",
      "\u001b[1;31mKeyError\u001b[0m: 'risk_alert'",
      "\nThe above exception was the direct cause of the following exception:\n",
      "\u001b[1;31mKeyError\u001b[0m                                  Traceback (most recent call last)",
      "Cell \u001b[1;32mIn[64], line 7\u001b[0m\n\u001b[0;32m      4\u001b[0m plt\u001b[38;5;241m.\u001b[39mplot(daily_sentiment[\u001b[38;5;124m'\u001b[39m\u001b[38;5;124mdate\u001b[39m\u001b[38;5;124m'\u001b[39m], daily_sentiment[\u001b[38;5;124m'\u001b[39m\u001b[38;5;124msentiment_score\u001b[39m\u001b[38;5;124m'\u001b[39m], marker\u001b[38;5;241m=\u001b[39m\u001b[38;5;124m'\u001b[39m\u001b[38;5;124mo\u001b[39m\u001b[38;5;124m'\u001b[39m, label\u001b[38;5;241m=\u001b[39m\u001b[38;5;124m'\u001b[39m\u001b[38;5;124mSentiment Score\u001b[39m\u001b[38;5;124m'\u001b[39m)\n\u001b[0;32m      6\u001b[0m \u001b[38;5;66;03m# Highlight risk alert days\u001b[39;00m\n\u001b[1;32m----> 7\u001b[0m risk_days \u001b[38;5;241m=\u001b[39m daily_sentiment[daily_sentiment[\u001b[38;5;124m'\u001b[39m\u001b[38;5;124mrisk_alert\u001b[39m\u001b[38;5;124m'\u001b[39m]]\n\u001b[0;32m      8\u001b[0m plt\u001b[38;5;241m.\u001b[39mscatter(risk_days[\u001b[38;5;124m'\u001b[39m\u001b[38;5;124mdate\u001b[39m\u001b[38;5;124m'\u001b[39m], risk_days[\u001b[38;5;124m'\u001b[39m\u001b[38;5;124msentiment_score\u001b[39m\u001b[38;5;124m'\u001b[39m], color\u001b[38;5;241m=\u001b[39m\u001b[38;5;124m'\u001b[39m\u001b[38;5;124mred\u001b[39m\u001b[38;5;124m'\u001b[39m, label\u001b[38;5;241m=\u001b[39m\u001b[38;5;124m'\u001b[39m\u001b[38;5;124mRisk Alert\u001b[39m\u001b[38;5;124m'\u001b[39m, zorder\u001b[38;5;241m=\u001b[39m\u001b[38;5;241m5\u001b[39m)\n\u001b[0;32m     10\u001b[0m plt\u001b[38;5;241m.\u001b[39maxhline(y\u001b[38;5;241m=\u001b[39mrisk_threshold, color\u001b[38;5;241m=\u001b[39m\u001b[38;5;124m'\u001b[39m\u001b[38;5;124mgray\u001b[39m\u001b[38;5;124m'\u001b[39m, linestyle\u001b[38;5;241m=\u001b[39m\u001b[38;5;124m'\u001b[39m\u001b[38;5;124m--\u001b[39m\u001b[38;5;124m'\u001b[39m, label\u001b[38;5;241m=\u001b[39m\u001b[38;5;124m'\u001b[39m\u001b[38;5;124mRisk Threshold\u001b[39m\u001b[38;5;124m'\u001b[39m)\n",
      "File \u001b[1;32m~\\anaconda3\\Lib\\site-packages\\pandas\\core\\frame.py:4102\u001b[0m, in \u001b[0;36mDataFrame.__getitem__\u001b[1;34m(self, key)\u001b[0m\n\u001b[0;32m   4100\u001b[0m \u001b[38;5;28;01mif\u001b[39;00m \u001b[38;5;28mself\u001b[39m\u001b[38;5;241m.\u001b[39mcolumns\u001b[38;5;241m.\u001b[39mnlevels \u001b[38;5;241m>\u001b[39m \u001b[38;5;241m1\u001b[39m:\n\u001b[0;32m   4101\u001b[0m     \u001b[38;5;28;01mreturn\u001b[39;00m \u001b[38;5;28mself\u001b[39m\u001b[38;5;241m.\u001b[39m_getitem_multilevel(key)\n\u001b[1;32m-> 4102\u001b[0m indexer \u001b[38;5;241m=\u001b[39m \u001b[38;5;28mself\u001b[39m\u001b[38;5;241m.\u001b[39mcolumns\u001b[38;5;241m.\u001b[39mget_loc(key)\n\u001b[0;32m   4103\u001b[0m \u001b[38;5;28;01mif\u001b[39;00m is_integer(indexer):\n\u001b[0;32m   4104\u001b[0m     indexer \u001b[38;5;241m=\u001b[39m [indexer]\n",
      "File \u001b[1;32m~\\anaconda3\\Lib\\site-packages\\pandas\\core\\indexes\\base.py:3812\u001b[0m, in \u001b[0;36mIndex.get_loc\u001b[1;34m(self, key)\u001b[0m\n\u001b[0;32m   3807\u001b[0m     \u001b[38;5;28;01mif\u001b[39;00m \u001b[38;5;28misinstance\u001b[39m(casted_key, \u001b[38;5;28mslice\u001b[39m) \u001b[38;5;129;01mor\u001b[39;00m (\n\u001b[0;32m   3808\u001b[0m         \u001b[38;5;28misinstance\u001b[39m(casted_key, abc\u001b[38;5;241m.\u001b[39mIterable)\n\u001b[0;32m   3809\u001b[0m         \u001b[38;5;129;01mand\u001b[39;00m \u001b[38;5;28many\u001b[39m(\u001b[38;5;28misinstance\u001b[39m(x, \u001b[38;5;28mslice\u001b[39m) \u001b[38;5;28;01mfor\u001b[39;00m x \u001b[38;5;129;01min\u001b[39;00m casted_key)\n\u001b[0;32m   3810\u001b[0m     ):\n\u001b[0;32m   3811\u001b[0m         \u001b[38;5;28;01mraise\u001b[39;00m InvalidIndexError(key)\n\u001b[1;32m-> 3812\u001b[0m     \u001b[38;5;28;01mraise\u001b[39;00m \u001b[38;5;167;01mKeyError\u001b[39;00m(key) \u001b[38;5;28;01mfrom\u001b[39;00m \u001b[38;5;21;01merr\u001b[39;00m\n\u001b[0;32m   3813\u001b[0m \u001b[38;5;28;01mexcept\u001b[39;00m \u001b[38;5;167;01mTypeError\u001b[39;00m:\n\u001b[0;32m   3814\u001b[0m     \u001b[38;5;66;03m# If we have a listlike key, _check_indexing_error will raise\u001b[39;00m\n\u001b[0;32m   3815\u001b[0m     \u001b[38;5;66;03m#  InvalidIndexError. Otherwise we fall through and re-raise\u001b[39;00m\n\u001b[0;32m   3816\u001b[0m     \u001b[38;5;66;03m#  the TypeError.\u001b[39;00m\n\u001b[0;32m   3817\u001b[0m     \u001b[38;5;28mself\u001b[39m\u001b[38;5;241m.\u001b[39m_check_indexing_error(key)\n",
      "\u001b[1;31mKeyError\u001b[0m: 'risk_alert'"
     ]
    },
    {
     "data": {
      "image/png": "[encoded data removed]",
      "text/plain": [
       "<Figure size 1400x600 with 1 Axes>"
      ]
     },
     "metadata": {},
     "output_type": "display_data"
    }
   ],
   "source": [
    "import matplotlib.pyplot as plt\n",
    "\n",
    "plt.figure(figsize=(14, 6))\n",
    "plt.plot(daily_sentiment['date'], daily_sentiment['sentiment_score'], marker='o', label='Sentiment Score')\n",
    "\n",
    "# Highlight risk alert days\n",
    "risk_days = daily_sentiment[daily_sentiment['risk_alert']]\n",
    "plt.scatter(risk_days['date'], risk_days['sentiment_score'], color='red', label='Risk Alert', zorder=5)\n",
    "\n",
    "plt.axhline(y=risk_threshold, color='gray', linestyle='--', label='Risk Threshold')\n",
    "plt.title('Daily Financial News Sentiment with Risk Alerts')\n",
    "plt.xlabel('Date')\n",
    "plt.ylabel('Average Sentiment Score')\n",
    "plt.legend()\n",
    "plt.grid(True)\n",
    "plt.xticks(rotation=45)\n",
    "plt.tight_layout()\n",
    "plt.show()\n"
   ]
  },
  {
   "cell_type": "code",
   "execution_count": null,
   "id": "ec3535fe-c286-48d5-bf14-0ff7f0a002fe",
   "metadata": {},
   "outputs": [],
   "source": []
  }
 ],
 "metadata": {
  "kernelspec": {
   "display_name": "Python [conda env:base] *",
   "language": "python",
   "name": "conda-base-py"
  },
  "language_info": {
   "codemirror_mode": {
    "name": "ipython",
    "version": 3
   },
   "file_extension": ".py",
   "mimetype": "text/x-python",
   "name": "python",
   "nbconvert_exporter": "python",
   "pygments_lexer": "ipython3",
   "version": "3.12.7"
  }
 },
 "nbformat": 4,
 "nbformat_minor": 5
}
